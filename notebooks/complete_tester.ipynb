{
 "cells": [
  {
   "cell_type": "code",
   "execution_count": 3,
   "metadata": {},
   "outputs": [],
   "source": [
    "import numpy as np\n",
    "import torch\n",
    "from torch import nn\n",
    "import torch.nn.functional as F\n",
    "from torch.utils.data import DataLoader\n",
    "\n",
    "from data import DatasetConfig, WeatherDataset, DummyDataset, DummyDatasetConfig\n",
    "from model import HeirarchicalTransformer, HeirarchicalTransformerConfig"
   ]
  },
  {
   "cell_type": "code",
   "execution_count": 4,
   "metadata": {},
   "outputs": [
    {
     "data": {
      "text/plain": [
       "---- DATASET CONFIGURATION ----\n",
       "+-----------+-----------------------------+\n",
       "| key       | value                       |\n",
       "|-----------+-----------------------------|\n",
       "| index     | notebooks/train_idx.txt     |\n",
       "| hdf_fpath | notebooks/weatherGiga3.hdf5 |\n",
       "| maxlen    | 120                         |\n",
       "| seqlen    | 24                          |\n",
       "+-----------+-----------------------------+"
      ]
     },
     "execution_count": 4,
     "metadata": {},
     "output_type": "execute_result"
    }
   ],
   "source": [
    "dataConf = DatasetConfig(\n",
    "    maxlen = 120,\n",
    "    hdf_fpath = \"notebooks/weatherGiga3.hdf5\",\n",
    "    index = \"notebooks/train_idx.txt\",\n",
    "    seqlen = 24\n",
    ")\n",
    "wd = WeatherDataset(dataConf)\n",
    "dataConf"
   ]
  },
  {
   "cell_type": "code",
   "execution_count": 5,
   "metadata": {},
   "outputs": [
    {
     "name": "stdout",
     "output_type": "stream",
     "text": [
      "Locations torch.Size([484, 3])\n",
      "edge_matrix torch.Size([484, 484])\n",
      "------\n",
      "input --> torch.Size([5, 24, 484, 17])\n",
      "node_mask --> torch.Size([5, 24, 484])\n",
      "month_ids --> torch.Size([5, 24])\n",
      "day_ids --> torch.Size([5, 24])\n",
      "hour_ids --> torch.Size([5, 24])\n"
     ]
    }
   ],
   "source": [
    "print(\"Locations\", wd.loc_mat.size())\n",
    "print(\"edge_matrix\", wd.edge_mat.size())\n",
    "print(\"------\")\n",
    "x = wd[45]\n",
    "for k,v in x.items():\n",
    "    print(k, \"-->\", v.size())"
   ]
  },
  {
   "cell_type": "code",
   "execution_count": 14,
   "metadata": {},
   "outputs": [
    {
     "data": {
      "text/plain": [
       "416415"
      ]
     },
     "execution_count": 14,
     "metadata": {},
     "output_type": "execute_result"
    }
   ],
   "source": [
    "modelConf = HeirarchicalTransformerConfig(\n",
    "    n_embd=17 * 3 * 2,\n",
    "    n_global= int(17 * 3 * 2),\n",
    "    maxlen=dataConf.seqlen,\n",
    "    n_head=3,\n",
    "    n_layer=1,\n",
    "    num_nodes=wd.edge_mat.shape[0],\n",
    "    num_features=17,\n",
    "    location_features=3,\n",
    "    mem_len = dataConf.maxlen\n",
    ")\n",
    "model = HeirarchicalTransformer(modelConf)\n",
    "model.num_params"
   ]
  },
  {
   "cell_type": "code",
   "execution_count": 15,
   "metadata": {},
   "outputs": [],
   "source": [
    "# for x in model.named_parameters():\n",
    "#     print(x[0], \"--->\", x[1].shape)"
   ]
  },
  {
   "cell_type": "code",
   "execution_count": 16,
   "metadata": {},
   "outputs": [
    {
     "name": "stdout",
     "output_type": "stream",
     "text": [
      "torch.Size([10, 24, 484, 17]) tensor(12.2898, grad_fn=<MeanBackward0>)\n",
      "torch.Size([10, 24, 484, 17]) tensor(12.2777, grad_fn=<MeanBackward0>)\n",
      "torch.Size([10, 24, 484, 17]) tensor(12.4691, grad_fn=<MeanBackward0>)\n",
      "torch.Size([10, 24, 484, 17]) tensor(12.4644, grad_fn=<MeanBackward0>)\n",
      "torch.Size([10, 24, 484, 17]) tensor(12.4119, grad_fn=<MeanBackward0>)\n"
     ]
    }
   ],
   "source": [
    "for x in DataLoader(wd, batch_size = 10, shuffle = True):\n",
    "    mems = None # reset for every batch\n",
    "    for i in range(x[\"input\"].shape[1]):\n",
    "        in_data = {k:v[:,i,...] for k,v in x.items()}\n",
    "        logits, mems, loss = model(\n",
    "            **in_data,\n",
    "            mems = mems,\n",
    "            edge_matrix = wd.edge_mat,\n",
    "            locations = wd.loc_mat,\n",
    "            get_loss = True\n",
    "        )\n",
    "        print(logits.shape, loss)\n",
    "    break"
   ]
  },
  {
   "cell_type": "code",
   "execution_count": 13,
   "metadata": {},
   "outputs": [
    {
     "name": "stdout",
     "output_type": "stream",
     "text": [
      "tensor([0.3766, 0.4105, 0.2262, 0.4773, 0.4744, 0.7812, 0.2691, 0.4900, 0.3605,\n",
      "        0.3690, 0.0181, 0.9267])\n"
     ]
    },
    {
     "data": {
      "text/plain": [
       "tensor([-0.2409, -0.0925, -0.8988,  0.1997,  0.1873,  1.5295, -0.7112,  0.2553,\n",
       "        -0.3112, -0.2738, -1.8094,  2.1661])"
      ]
     },
     "execution_count": 13,
     "metadata": {},
     "output_type": "execute_result"
    }
   ],
   "source": [
    "x = torch.rand(12)\n",
    "print(x)\n",
    "F.layer_norm(x, x.size())"
   ]
  },
  {
   "cell_type": "code",
   "execution_count": 5,
   "metadata": {},
   "outputs": [
    {
     "name": "stderr",
     "output_type": "stream",
     "text": [
      "<ipython-input-5-a516208e06d4>:1: RuntimeWarning: invalid value encountered in log\n",
      "  np.log(-9)\n"
     ]
    },
    {
     "data": {
      "text/plain": [
       "nan"
      ]
     },
     "execution_count": 5,
     "metadata": {},
     "output_type": "execute_result"
    }
   ],
   "source": [
    "np.log(-9)"
   ]
  },
  {
   "cell_type": "code",
   "execution_count": 3,
   "metadata": {},
   "outputs": [
    {
     "data": {
      "text/plain": [
       "0.0"
      ]
     },
     "execution_count": 3,
     "metadata": {},
     "output_type": "execute_result"
    }
   ],
   "source": [
    "np.nan_to_num(np.nan)"
   ]
  },
  {
   "cell_type": "code",
   "execution_count": null,
   "metadata": {},
   "outputs": [],
   "source": []
  },
  {
   "cell_type": "code",
   "execution_count": 5,
   "metadata": {},
   "outputs": [],
   "source": [
    "dummyDataConf = DummyDatasetConfig()\n",
    "dummyData = DummyDataset(dummyDataConf)"
   ]
  },
  {
   "cell_type": "code",
   "execution_count": 6,
   "metadata": {},
   "outputs": [
    {
     "name": "stdout",
     "output_type": "stream",
     "text": [
      "input --> torch.Size([2, 5, 30, 5])\n",
      "node_mask --> torch.Size([2, 5, 30])\n",
      "month_ids --> torch.Size([2, 5])\n",
      "day_ids --> torch.Size([2, 5])\n",
      "hour_ids --> torch.Size([2, 5])\n"
     ]
    }
   ],
   "source": [
    "for k,v in dummyData[0].items():\n",
    "    print(k, \"-->\", v.size())"
   ]
  },
  {
   "cell_type": "code",
   "execution_count": null,
   "metadata": {},
   "outputs": [],
   "source": []
  }
 ],
 "metadata": {
  "kernelspec": {
   "display_name": "Python 3",
   "language": "python",
   "name": "python3"
  },
  "language_info": {
   "codemirror_mode": {
    "name": "ipython",
    "version": 3
   },
   "file_extension": ".py",
   "mimetype": "text/x-python",
   "name": "python",
   "nbconvert_exporter": "python",
   "pygments_lexer": "ipython3",
   "version": "3.8.5"
  }
 },
 "nbformat": 4,
 "nbformat_minor": 4
}
